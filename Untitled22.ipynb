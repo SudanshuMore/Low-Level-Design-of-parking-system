{
 "cells": [
  {
   "cell_type": "code",
   "execution_count": 6,
   "id": "6d125ea5",
   "metadata": {},
   "outputs": [
    {
     "name": "stdout",
     "output_type": "stream",
     "text": [
      "True\n",
      "True\n",
      "False\n",
      "True\n",
      "True\n",
      "True\n"
     ]
    }
   ],
   "source": [
    "class OurParkingSystem:\n",
    "   def __init__(self, big, medium, small):\n",
    "      self.sp = [0,big,medium,small]\n",
    "\n",
    "   def addCar(self, carType):\n",
    "      if(self.sp[carType] >0 ):\n",
    "         self.sp[carType] -= 1\n",
    "         return True\n",
    "      return False\n",
    "\n",
    "ps = OurParkingSystem(5, 2, 1)\n",
    "print(ps.addCar(3))\n",
    "print(ps.addCar(2))\n",
    "print(ps.addCar(3))\n",
    "print(ps.addCar(1))\n",
    "print(ps.addCar(1))\n",
    "print(ps.addCar(1))"
   ]
  },
  {
   "cell_type": "code",
   "execution_count": null,
   "id": "3a8ec811",
   "metadata": {},
   "outputs": [],
   "source": []
  }
 ],
 "metadata": {
  "kernelspec": {
   "display_name": "Python 3",
   "language": "python",
   "name": "python3"
  },
  "language_info": {
   "codemirror_mode": {
    "name": "ipython",
    "version": 3
   },
   "file_extension": ".py",
   "mimetype": "text/x-python",
   "name": "python",
   "nbconvert_exporter": "python",
   "pygments_lexer": "ipython3",
   "version": "3.8.8"
  }
 },
 "nbformat": 4,
 "nbformat_minor": 5
}
